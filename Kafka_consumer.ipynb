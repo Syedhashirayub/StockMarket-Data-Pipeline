{
 "cells": [
  {
   "cell_type": "code",
   "execution_count": 1,
   "id": "ee74c145",
   "metadata": {},
   "outputs": [
    {
     "name": "stdout",
     "output_type": "stream",
     "text": [
      "Collecting boto3\n",
      "  Downloading boto3-1.28.56-py3-none-any.whl (135 kB)\n",
      "\u001b[2K     \u001b[90m━━━━━━━━━━━━━━━━━━━━━━━━━━━━━━━━━━━━━\u001b[0m \u001b[32m135.8/135.8 kB\u001b[0m \u001b[31m438.4 kB/s\u001b[0m eta \u001b[36m0:00:00\u001b[0m00:01\u001b[0m00:01\u001b[0m\n",
      "\u001b[?25hCollecting botocore<1.32.0,>=1.31.56\n",
      "  Downloading botocore-1.31.56-py3-none-any.whl (11.2 MB)\n",
      "\u001b[2K     \u001b[90m━━━━━━━━━━━━━━━━━━━━━━━━━━━━━━━━━━━━━━━━\u001b[0m \u001b[32m11.2/11.2 MB\u001b[0m \u001b[31m1.7 MB/s\u001b[0m eta \u001b[36m0:00:00\u001b[0m00:01\u001b[0m00:01\u001b[0m\n",
      "\u001b[?25hCollecting jmespath<2.0.0,>=0.7.1\n",
      "  Downloading jmespath-1.0.1-py3-none-any.whl (20 kB)\n",
      "Collecting s3transfer<0.8.0,>=0.7.0\n",
      "  Downloading s3transfer-0.7.0-py3-none-any.whl (79 kB)\n",
      "\u001b[2K     \u001b[90m━━━━━━━━━━━━━━━━━━━━━━━━━━━━━━━━━━━━━━━━\u001b[0m \u001b[32m79.8/79.8 kB\u001b[0m \u001b[31m2.0 MB/s\u001b[0m eta \u001b[36m0:00:00\u001b[0m\n",
      "\u001b[?25hCollecting urllib3<1.27,>=1.25.4\n",
      "  Downloading urllib3-1.26.16-py2.py3-none-any.whl (143 kB)\n",
      "\u001b[2K     \u001b[90m━━━━━━━━━━━━━━━━━━━━━━━━━━━━━━━━━━━━━━━\u001b[0m \u001b[32m143.1/143.1 kB\u001b[0m \u001b[31m1.2 MB/s\u001b[0m eta \u001b[36m0:00:00\u001b[0ma \u001b[36m0:00:01\u001b[0m\n",
      "\u001b[?25hRequirement already satisfied: python-dateutil<3.0.0,>=2.1 in /Users/syedhashir/Library/Python/3.10/lib/python/site-packages (from botocore<1.32.0,>=1.31.56->boto3) (2.8.2)\n",
      "Requirement already satisfied: six>=1.5 in /Users/syedhashir/Library/Python/3.10/lib/python/site-packages (from python-dateutil<3.0.0,>=2.1->botocore<1.32.0,>=1.31.56->boto3) (1.16.0)\n",
      "Installing collected packages: urllib3, jmespath, botocore, s3transfer, boto3\n",
      "Successfully installed boto3-1.28.56 botocore-1.31.56 jmespath-1.0.1 s3transfer-0.7.0 urllib3-1.26.16\n",
      "\n",
      "\u001b[1m[\u001b[0m\u001b[34;49mnotice\u001b[0m\u001b[1;39;49m]\u001b[0m\u001b[39;49m A new release of pip available: \u001b[0m\u001b[31;49m22.3.1\u001b[0m\u001b[39;49m -> \u001b[0m\u001b[32;49m23.2.1\u001b[0m\n",
      "\u001b[1m[\u001b[0m\u001b[34;49mnotice\u001b[0m\u001b[1;39;49m]\u001b[0m\u001b[39;49m To update, run: \u001b[0m\u001b[32;49mpip3.10 install --upgrade pip\u001b[0m\n",
      "Note: you may need to restart the kernel to use updated packages.\n"
     ]
    }
   ],
   "source": [
    "pip install boto3"
   ]
  },
  {
   "cell_type": "code",
   "execution_count": 4,
   "id": "ce63ea90",
   "metadata": {},
   "outputs": [
    {
     "name": "stderr",
     "output_type": "stream",
     "text": [
      "235.57s - pydevd: Sending message related to process being replaced timed-out after 5 seconds\n"
     ]
    },
    {
     "name": "stdout",
     "output_type": "stream",
     "text": [
      "Collecting s3fs\n",
      "  Downloading s3fs-2023.9.2-py3-none-any.whl (28 kB)\n",
      "Collecting aiohttp!=4.0.0a0,!=4.0.0a1\n",
      "  Downloading aiohttp-3.8.5-cp310-cp310-macosx_10_9_x86_64.whl (365 kB)\n",
      "\u001b[2K     \u001b[90m━━━━━━━━━━━━━━━━━━━━━━━━━━━━━━━━━━━━━━━\u001b[0m \u001b[32m365.8/365.8 kB\u001b[0m \u001b[31m1.3 MB/s\u001b[0m eta \u001b[36m0:00:00\u001b[0m00:01\u001b[0m00:01\u001b[0m\n",
      "\u001b[?25hCollecting fsspec==2023.9.2\n",
      "  Downloading fsspec-2023.9.2-py3-none-any.whl (173 kB)\n",
      "\u001b[2K     \u001b[90m━━━━━━━━━━━━━━━━━━━━━━━━━━━━━━━━━━━━━━━\u001b[0m \u001b[32m173.4/173.4 kB\u001b[0m \u001b[31m1.3 MB/s\u001b[0m eta \u001b[36m0:00:00\u001b[0ma \u001b[36m0:00:01\u001b[0m\n",
      "\u001b[?25hCollecting aiobotocore~=2.5.4\n",
      "  Downloading aiobotocore-2.5.4-py3-none-any.whl (73 kB)\n",
      "\u001b[2K     \u001b[90m━━━━━━━━━━━━━━━━━━━━━━━━━━━━━━━━━━━━━━━━\u001b[0m \u001b[32m73.4/73.4 kB\u001b[0m \u001b[31m1.4 MB/s\u001b[0m eta \u001b[36m0:00:00\u001b[0m00:01\u001b[0m\n",
      "\u001b[?25hCollecting botocore<1.31.18,>=1.31.17\n",
      "  Downloading botocore-1.31.17-py3-none-any.whl (11.1 MB)\n",
      "\u001b[2K     \u001b[90m━━━━━━━━━━━━━━━━━━━━━━━━━━━━━━━━━━━━━━━\u001b[0m \u001b[32m11.1/11.1 MB\u001b[0m \u001b[31m932.1 kB/s\u001b[0m eta \u001b[36m0:00:00\u001b[0m00:01\u001b[0m00:01\u001b[0m\n",
      "\u001b[?25hCollecting wrapt<2.0.0,>=1.10.10\n",
      "  Downloading wrapt-1.15.0-cp310-cp310-macosx_10_9_x86_64.whl (35 kB)\n",
      "Collecting aioitertools<1.0.0,>=0.5.1\n",
      "  Downloading aioitertools-0.11.0-py3-none-any.whl (23 kB)\n",
      "Collecting multidict<7.0,>=4.5\n",
      "  Downloading multidict-6.0.4-cp310-cp310-macosx_10_9_x86_64.whl (29 kB)\n",
      "Collecting frozenlist>=1.1.1\n",
      "  Downloading frozenlist-1.4.0-cp310-cp310-macosx_10_9_x86_64.whl (46 kB)\n",
      "\u001b[2K     \u001b[90m━━━━━━━━━━━━━━━━━━━━━━━━━━━━━━━━━━━━━━━\u001b[0m \u001b[32m46.9/46.9 kB\u001b[0m \u001b[31m614.6 kB/s\u001b[0m eta \u001b[36m0:00:00\u001b[0m \u001b[36m0:00:01\u001b[0m\n",
      "\u001b[?25hCollecting attrs>=17.3.0\n",
      "  Using cached attrs-23.1.0-py3-none-any.whl (61 kB)\n",
      "Collecting charset-normalizer<4.0,>=2.0\n",
      "  Using cached charset_normalizer-3.2.0-cp310-cp310-macosx_10_9_x86_64.whl (126 kB)\n",
      "Collecting yarl<2.0,>=1.0\n",
      "  Downloading yarl-1.9.2-cp310-cp310-macosx_10_9_x86_64.whl (65 kB)\n",
      "\u001b[2K     \u001b[90m━━━━━━━━━━━━━━━━━━━━━━━━━━━━━━━━━━━━━━━\u001b[0m \u001b[32m65.7/65.7 kB\u001b[0m \u001b[31m675.1 kB/s\u001b[0m eta \u001b[36m0:00:00\u001b[0ma \u001b[36m0:00:01\u001b[0m\n",
      "\u001b[?25hCollecting async-timeout<5.0,>=4.0.0a3\n",
      "  Downloading async_timeout-4.0.3-py3-none-any.whl (5.7 kB)\n",
      "Collecting aiosignal>=1.1.2\n",
      "  Downloading aiosignal-1.3.1-py3-none-any.whl (7.6 kB)\n",
      "Requirement already satisfied: python-dateutil<3.0.0,>=2.1 in /Users/syedhashir/Library/Python/3.10/lib/python/site-packages (from botocore<1.31.18,>=1.31.17->aiobotocore~=2.5.4->s3fs) (2.8.2)\n",
      "Requirement already satisfied: urllib3<1.27,>=1.25.4 in /Library/Frameworks/Python.framework/Versions/3.10/lib/python3.10/site-packages (from botocore<1.31.18,>=1.31.17->aiobotocore~=2.5.4->s3fs) (1.26.16)\n",
      "Requirement already satisfied: jmespath<2.0.0,>=0.7.1 in /Library/Frameworks/Python.framework/Versions/3.10/lib/python3.10/site-packages (from botocore<1.31.18,>=1.31.17->aiobotocore~=2.5.4->s3fs) (1.0.1)\n",
      "Collecting idna>=2.0\n",
      "  Using cached idna-3.4-py3-none-any.whl (61 kB)\n",
      "Requirement already satisfied: six>=1.5 in /Users/syedhashir/Library/Python/3.10/lib/python/site-packages (from python-dateutil<3.0.0,>=2.1->botocore<1.31.18,>=1.31.17->aiobotocore~=2.5.4->s3fs) (1.16.0)\n",
      "Installing collected packages: wrapt, multidict, idna, fsspec, frozenlist, charset-normalizer, attrs, async-timeout, aioitertools, yarl, botocore, aiosignal, aiohttp, aiobotocore, s3fs\n",
      "  Attempting uninstall: botocore\n",
      "    Found existing installation: botocore 1.31.56\n",
      "    Uninstalling botocore-1.31.56:\n",
      "      Successfully uninstalled botocore-1.31.56\n",
      "\u001b[31mERROR: pip's dependency resolver does not currently take into account all the packages that are installed. This behaviour is the source of the following dependency conflicts.\n",
      "boto3 1.28.56 requires botocore<1.32.0,>=1.31.56, but you have botocore 1.31.17 which is incompatible.\u001b[0m\u001b[31m\n",
      "\u001b[0mSuccessfully installed aiobotocore-2.5.4 aiohttp-3.8.5 aioitertools-0.11.0 aiosignal-1.3.1 async-timeout-4.0.3 attrs-23.1.0 botocore-1.31.17 charset-normalizer-3.2.0 frozenlist-1.4.0 fsspec-2023.9.2 idna-3.4 multidict-6.0.4 s3fs-2023.9.2 wrapt-1.15.0 yarl-1.9.2\n",
      "\n",
      "\u001b[1m[\u001b[0m\u001b[34;49mnotice\u001b[0m\u001b[1;39;49m]\u001b[0m\u001b[39;49m A new release of pip available: \u001b[0m\u001b[31;49m22.3.1\u001b[0m\u001b[39;49m -> \u001b[0m\u001b[32;49m23.2.1\u001b[0m\n",
      "\u001b[1m[\u001b[0m\u001b[34;49mnotice\u001b[0m\u001b[1;39;49m]\u001b[0m\u001b[39;49m To update, run: \u001b[0m\u001b[32;49mpip3.10 install --upgrade pip\u001b[0m\n",
      "Note: you may need to restart the kernel to use updated packages.\n"
     ]
    }
   ],
   "source": [
    "pip install s3fs"
   ]
  },
  {
   "cell_type": "code",
   "execution_count": 5,
   "id": "1457e590",
   "metadata": {
    "scrolled": true
   },
   "outputs": [],
   "source": [
    "from kafka import KafkaConsumer\n",
    "from time import sleep\n",
    "from json import dumps,loads\n",
    "import json\n",
    "from s3fs import S3FileSystem"
   ]
  },
  {
   "cell_type": "code",
   "execution_count": 6,
   "id": "4c6a8be8",
   "metadata": {},
   "outputs": [],
   "source": [
    "consumer = KafkaConsumer(\n",
    "    'demo_test',\n",
    "     bootstrap_servers=['3.85.1.***:9092'], #add your IP here\n",
    "    value_deserializer=lambda x: loads(x.decode('utf-8')))"
   ]
  },
  {
   "cell_type": "code",
   "execution_count": 15,
   "id": "5bb623d4",
   "metadata": {},
   "outputs": [
    {
     "ename": "ProfileNotFound",
     "evalue": "The config profile (kafka-aws-stock-market-analysis) could not be found",
     "output_type": "error",
     "traceback": [
      "\u001b[0;31m---------------------------------------------------------------------------\u001b[0m",
      "\u001b[0;31mProfileNotFound\u001b[0m                           Traceback (most recent call last)",
      "Cell \u001b[0;32mIn[15], line 2\u001b[0m\n\u001b[1;32m      1\u001b[0m \u001b[38;5;28;01mfrom\u001b[39;00m \u001b[38;5;21;01mboto3\u001b[39;00m \u001b[38;5;28;01mimport\u001b[39;00m Session\n\u001b[0;32m----> 2\u001b[0m session \u001b[38;5;241m=\u001b[39m \u001b[43mSession\u001b[49m\u001b[43m(\u001b[49m\u001b[43mprofile_name\u001b[49m\u001b[38;5;241;43m=\u001b[39;49m\u001b[38;5;124;43m'\u001b[39;49m\u001b[38;5;124;43mkafka-aws-stock-market-analysis\u001b[39;49m\u001b[38;5;124;43m'\u001b[39;49m\u001b[43m)\u001b[49m\n\u001b[1;32m      3\u001b[0m s3 \u001b[38;5;241m=\u001b[39m session\u001b[38;5;241m.\u001b[39mclient(\u001b[38;5;124m'\u001b[39m\u001b[38;5;124ms3\u001b[39m\u001b[38;5;124m'\u001b[39m)\n\u001b[1;32m      5\u001b[0m \u001b[38;5;28;01mfrom\u001b[39;00m \u001b[38;5;21;01mio\u001b[39;00m \u001b[38;5;28;01mimport\u001b[39;00m BytesIO\n",
      "File \u001b[0;32m/usr/local/Cellar/jupyterlab/3.6.1/libexec/lib/python3.11/site-packages/boto3/session.py:90\u001b[0m, in \u001b[0;36mSession.__init__\u001b[0;34m(self, aws_access_key_id, aws_secret_access_key, aws_session_token, region_name, botocore_session, profile_name)\u001b[0m\n\u001b[1;32m     85\u001b[0m     \u001b[38;5;28mself\u001b[39m\u001b[38;5;241m.\u001b[39m_session\u001b[38;5;241m.\u001b[39mset_config_variable(\u001b[38;5;124m'\u001b[39m\u001b[38;5;124mregion\u001b[39m\u001b[38;5;124m'\u001b[39m, region_name)\n\u001b[1;32m     87\u001b[0m \u001b[38;5;28mself\u001b[39m\u001b[38;5;241m.\u001b[39mresource_factory \u001b[38;5;241m=\u001b[39m ResourceFactory(\n\u001b[1;32m     88\u001b[0m     \u001b[38;5;28mself\u001b[39m\u001b[38;5;241m.\u001b[39m_session\u001b[38;5;241m.\u001b[39mget_component(\u001b[38;5;124m'\u001b[39m\u001b[38;5;124mevent_emitter\u001b[39m\u001b[38;5;124m'\u001b[39m)\n\u001b[1;32m     89\u001b[0m )\n\u001b[0;32m---> 90\u001b[0m \u001b[38;5;28;43mself\u001b[39;49m\u001b[38;5;241;43m.\u001b[39;49m\u001b[43m_setup_loader\u001b[49m\u001b[43m(\u001b[49m\u001b[43m)\u001b[49m\n\u001b[1;32m     91\u001b[0m \u001b[38;5;28mself\u001b[39m\u001b[38;5;241m.\u001b[39m_register_default_handlers()\n",
      "File \u001b[0;32m/usr/local/Cellar/jupyterlab/3.6.1/libexec/lib/python3.11/site-packages/boto3/session.py:131\u001b[0m, in \u001b[0;36mSession._setup_loader\u001b[0;34m(self)\u001b[0m\n\u001b[1;32m    127\u001b[0m \u001b[38;5;28;01mdef\u001b[39;00m \u001b[38;5;21m_setup_loader\u001b[39m(\u001b[38;5;28mself\u001b[39m):\n\u001b[1;32m    128\u001b[0m \u001b[38;5;250m    \u001b[39m\u001b[38;5;124;03m\"\"\"\u001b[39;00m\n\u001b[1;32m    129\u001b[0m \u001b[38;5;124;03m    Setup loader paths so that we can load resources.\u001b[39;00m\n\u001b[1;32m    130\u001b[0m \u001b[38;5;124;03m    \"\"\"\u001b[39;00m\n\u001b[0;32m--> 131\u001b[0m     \u001b[38;5;28mself\u001b[39m\u001b[38;5;241m.\u001b[39m_loader \u001b[38;5;241m=\u001b[39m \u001b[38;5;28;43mself\u001b[39;49m\u001b[38;5;241;43m.\u001b[39;49m\u001b[43m_session\u001b[49m\u001b[38;5;241;43m.\u001b[39;49m\u001b[43mget_component\u001b[49m\u001b[43m(\u001b[49m\u001b[38;5;124;43m'\u001b[39;49m\u001b[38;5;124;43mdata_loader\u001b[39;49m\u001b[38;5;124;43m'\u001b[39;49m\u001b[43m)\u001b[49m\n\u001b[1;32m    132\u001b[0m     \u001b[38;5;28mself\u001b[39m\u001b[38;5;241m.\u001b[39m_loader\u001b[38;5;241m.\u001b[39msearch_paths\u001b[38;5;241m.\u001b[39mappend(\n\u001b[1;32m    133\u001b[0m         os\u001b[38;5;241m.\u001b[39mpath\u001b[38;5;241m.\u001b[39mjoin(os\u001b[38;5;241m.\u001b[39mpath\u001b[38;5;241m.\u001b[39mdirname(\u001b[38;5;18m__file__\u001b[39m), \u001b[38;5;124m'\u001b[39m\u001b[38;5;124mdata\u001b[39m\u001b[38;5;124m'\u001b[39m)\n\u001b[1;32m    134\u001b[0m     )\n",
      "File \u001b[0;32m/usr/local/Cellar/jupyterlab/3.6.1/libexec/lib/python3.11/site-packages/botocore/session.py:771\u001b[0m, in \u001b[0;36mget_component\u001b[0;34m(self, name)\u001b[0m\n\u001b[1;32m    745\u001b[0m \u001b[38;5;28;01mdef\u001b[39;00m \u001b[38;5;21munregister\u001b[39m(\n\u001b[1;32m    746\u001b[0m     \u001b[38;5;28mself\u001b[39m,\n\u001b[1;32m    747\u001b[0m     event_name,\n\u001b[0;32m   (...)\u001b[0m\n\u001b[1;32m    750\u001b[0m     unique_id_uses_count\u001b[38;5;241m=\u001b[39m\u001b[38;5;28;01mFalse\u001b[39;00m,\n\u001b[1;32m    751\u001b[0m ):\n\u001b[1;32m    752\u001b[0m \u001b[38;5;250m    \u001b[39m\u001b[38;5;124;03m\"\"\"Unregister a handler with an event.\u001b[39;00m\n\u001b[1;32m    753\u001b[0m \n\u001b[1;32m    754\u001b[0m \u001b[38;5;124;03m    :type event_name: str\u001b[39;00m\n\u001b[1;32m    755\u001b[0m \u001b[38;5;124;03m    :param event_name: The name of the event.\u001b[39;00m\n\u001b[1;32m    756\u001b[0m \n\u001b[1;32m    757\u001b[0m \u001b[38;5;124;03m    :type handler: callable\u001b[39;00m\n\u001b[1;32m    758\u001b[0m \u001b[38;5;124;03m    :param handler: The callback to unregister.\u001b[39;00m\n\u001b[1;32m    759\u001b[0m \n\u001b[1;32m    760\u001b[0m \u001b[38;5;124;03m    :type unique_id: str\u001b[39;00m\n\u001b[1;32m    761\u001b[0m \u001b[38;5;124;03m    :param unique_id: A unique identifier identifying the callback\u001b[39;00m\n\u001b[1;32m    762\u001b[0m \u001b[38;5;124;03m        to unregister.  You can provide either the handler or the\u001b[39;00m\n\u001b[1;32m    763\u001b[0m \u001b[38;5;124;03m        unique_id, you do not have to provide both.\u001b[39;00m\n\u001b[1;32m    764\u001b[0m \n\u001b[1;32m    765\u001b[0m \u001b[38;5;124;03m    :param unique_id_uses_count: boolean\u001b[39;00m\n\u001b[1;32m    766\u001b[0m \u001b[38;5;124;03m    :param unique_id_uses_count: Specifies if the event should maintain\u001b[39;00m\n\u001b[1;32m    767\u001b[0m \u001b[38;5;124;03m        a count when a ``unique_id`` is registered and unregisted. The\u001b[39;00m\n\u001b[1;32m    768\u001b[0m \u001b[38;5;124;03m        event can only be completely unregistered once every ``register``\u001b[39;00m\n\u001b[1;32m    769\u001b[0m \u001b[38;5;124;03m        call using the ``unique_id`` has been matched by an ``unregister``\u001b[39;00m\n\u001b[1;32m    770\u001b[0m \u001b[38;5;124;03m        call. If the ``unique_id`` is specified, subsequent\u001b[39;00m\n\u001b[0;32m--> 771\u001b[0m \u001b[38;5;124;03m        ``unregister`` calls must use the same value for\u001b[39;00m\n\u001b[1;32m    772\u001b[0m \u001b[38;5;124;03m        ``unique_id_uses_count`` as the ``register`` call that first\u001b[39;00m\n\u001b[1;32m    773\u001b[0m \u001b[38;5;124;03m        registered the event.\u001b[39;00m\n\u001b[1;32m    774\u001b[0m \n\u001b[1;32m    775\u001b[0m \u001b[38;5;124;03m    :raises ValueError: If the call to ``unregister`` uses ``unique_id``\u001b[39;00m\n\u001b[1;32m    776\u001b[0m \u001b[38;5;124;03m        but the value for ``unique_id_uses_count`` differs from the\u001b[39;00m\n\u001b[1;32m    777\u001b[0m \u001b[38;5;124;03m        ``unique_id_uses_count`` value declared by the very first\u001b[39;00m\n\u001b[1;32m    778\u001b[0m \u001b[38;5;124;03m        ``register`` call for that ``unique_id``.\u001b[39;00m\n\u001b[1;32m    779\u001b[0m \u001b[38;5;124;03m    \"\"\"\u001b[39;00m\n\u001b[1;32m    780\u001b[0m     \u001b[38;5;28mself\u001b[39m\u001b[38;5;241m.\u001b[39m_events\u001b[38;5;241m.\u001b[39munregister(\n\u001b[1;32m    781\u001b[0m         event_name,\n\u001b[1;32m    782\u001b[0m         handler\u001b[38;5;241m=\u001b[39mhandler,\n\u001b[1;32m    783\u001b[0m         unique_id\u001b[38;5;241m=\u001b[39munique_id,\n\u001b[1;32m    784\u001b[0m         unique_id_uses_count\u001b[38;5;241m=\u001b[39munique_id_uses_count,\n\u001b[1;32m    785\u001b[0m     )\n",
      "File \u001b[0;32m/usr/local/Cellar/jupyterlab/3.6.1/libexec/lib/python3.11/site-packages/botocore/session.py:1081\u001b[0m, in \u001b[0;36mget_component\u001b[0;34m(self, name)\u001b[0m\n\u001b[1;32m   1062\u001b[0m \u001b[38;5;28;01mdef\u001b[39;00m \u001b[38;5;21mget_available_regions\u001b[39m(\n\u001b[1;32m   1063\u001b[0m     \u001b[38;5;28mself\u001b[39m, service_name, partition_name\u001b[38;5;241m=\u001b[39m\u001b[38;5;124m'\u001b[39m\u001b[38;5;124maws\u001b[39m\u001b[38;5;124m'\u001b[39m, allow_non_regional\u001b[38;5;241m=\u001b[39m\u001b[38;5;28;01mFalse\u001b[39;00m\n\u001b[1;32m   1064\u001b[0m ):\n\u001b[1;32m   1065\u001b[0m \u001b[38;5;250m    \u001b[39m\u001b[38;5;124;03m\"\"\"Lists the region and endpoint names of a particular partition.\u001b[39;00m\n\u001b[1;32m   1066\u001b[0m \n\u001b[1;32m   1067\u001b[0m \u001b[38;5;124;03m    :type service_name: string\u001b[39;00m\n\u001b[1;32m   1068\u001b[0m \u001b[38;5;124;03m    :param service_name: Name of a service to list endpoint for (e.g., s3).\u001b[39;00m\n\u001b[1;32m   1069\u001b[0m \u001b[38;5;124;03m        This parameter accepts a service name (e.g., \"elb\") or endpoint\u001b[39;00m\n\u001b[1;32m   1070\u001b[0m \u001b[38;5;124;03m        prefix (e.g., \"elasticloadbalancing\").\u001b[39;00m\n\u001b[1;32m   1071\u001b[0m \n\u001b[1;32m   1072\u001b[0m \u001b[38;5;124;03m    :type partition_name: string\u001b[39;00m\n\u001b[1;32m   1073\u001b[0m \u001b[38;5;124;03m    :param partition_name: Name of the partition to limit endpoints to.\u001b[39;00m\n\u001b[1;32m   1074\u001b[0m \u001b[38;5;124;03m        (e.g., aws for the public AWS endpoints, aws-cn for AWS China\u001b[39;00m\n\u001b[1;32m   1075\u001b[0m \u001b[38;5;124;03m        endpoints, aws-us-gov for AWS GovCloud (US) Endpoints, etc.\u001b[39;00m\n\u001b[1;32m   1076\u001b[0m \n\u001b[1;32m   1077\u001b[0m \u001b[38;5;124;03m    :type allow_non_regional: bool\u001b[39;00m\n\u001b[1;32m   1078\u001b[0m \u001b[38;5;124;03m    :param allow_non_regional: Set to True to include endpoints that are\u001b[39;00m\n\u001b[1;32m   1079\u001b[0m \u001b[38;5;124;03m         not regional endpoints (e.g., s3-external-1,\u001b[39;00m\n\u001b[1;32m   1080\u001b[0m \u001b[38;5;124;03m         fips-us-gov-west-1, etc).\u001b[39;00m\n\u001b[0;32m-> 1081\u001b[0m \u001b[38;5;124;03m    :return: Returns a list of endpoint names (e.g., [\"us-east-1\"]).\u001b[39;00m\n\u001b[1;32m   1082\u001b[0m \u001b[38;5;124;03m    \"\"\"\u001b[39;00m\n\u001b[1;32m   1083\u001b[0m     resolver \u001b[38;5;241m=\u001b[39m \u001b[38;5;28mself\u001b[39m\u001b[38;5;241m.\u001b[39m_get_internal_component(\u001b[38;5;124m'\u001b[39m\u001b[38;5;124mendpoint_resolver\u001b[39m\u001b[38;5;124m'\u001b[39m)\n\u001b[1;32m   1084\u001b[0m     results \u001b[38;5;241m=\u001b[39m []\n",
      "File \u001b[0;32m/usr/local/Cellar/jupyterlab/3.6.1/libexec/lib/python3.11/site-packages/botocore/session.py:182\u001b[0m, in \u001b[0;36m<lambda>\u001b[0;34m()\u001b[0m\n\u001b[1;32m    180\u001b[0m \u001b[38;5;28;01mdef\u001b[39;00m \u001b[38;5;21m_register_credential_provider\u001b[39m(\u001b[38;5;28mself\u001b[39m):\n\u001b[1;32m    181\u001b[0m     \u001b[38;5;28mself\u001b[39m\u001b[38;5;241m.\u001b[39m_components\u001b[38;5;241m.\u001b[39mlazy_register_component(\n\u001b[0;32m--> 182\u001b[0m         \u001b[38;5;124m'\u001b[39m\u001b[38;5;124mcredential_provider\u001b[39m\u001b[38;5;124m'\u001b[39m, \u001b[38;5;28mself\u001b[39m\u001b[38;5;241m.\u001b[39m_create_credential_resolver\n\u001b[1;32m    183\u001b[0m     )\n",
      "File \u001b[0;32m/usr/local/Cellar/jupyterlab/3.6.1/libexec/lib/python3.11/site-packages/botocore/session.py:305\u001b[0m, in \u001b[0;36mget_config_variable\u001b[0;34m(self, logical_name, methods)\u001b[0m\n\u001b[1;32m    302\u001b[0m         \u001b[38;5;28mself\u001b[39m\u001b[38;5;241m.\u001b[39m_profile_map \u001b[38;5;241m=\u001b[39m \u001b[38;5;28mself\u001b[39m\u001b[38;5;241m.\u001b[39mfull_config[\u001b[38;5;124m'\u001b[39m\u001b[38;5;124mprofiles\u001b[39m\u001b[38;5;124m'\u001b[39m]\n\u001b[1;32m    303\u001b[0m     \u001b[38;5;28;01mreturn\u001b[39;00m \u001b[38;5;28mself\u001b[39m\u001b[38;5;241m.\u001b[39m_profile_map\n\u001b[0;32m--> 305\u001b[0m \u001b[38;5;129m@property\u001b[39m\n\u001b[1;32m    306\u001b[0m \u001b[38;5;28;01mdef\u001b[39;00m \u001b[38;5;21mprofile\u001b[39m(\u001b[38;5;28mself\u001b[39m):\n\u001b[1;32m    307\u001b[0m     \u001b[38;5;28;01mif\u001b[39;00m \u001b[38;5;28mself\u001b[39m\u001b[38;5;241m.\u001b[39m_profile \u001b[38;5;129;01mis\u001b[39;00m \u001b[38;5;28;01mNone\u001b[39;00m:\n\u001b[1;32m    308\u001b[0m         profile \u001b[38;5;241m=\u001b[39m \u001b[38;5;28mself\u001b[39m\u001b[38;5;241m.\u001b[39mget_config_variable(\u001b[38;5;124m'\u001b[39m\u001b[38;5;124mprofile\u001b[39m\u001b[38;5;124m'\u001b[39m)\n",
      "File \u001b[0;32m/usr/local/Cellar/jupyterlab/3.6.1/libexec/lib/python3.11/site-packages/botocore/configprovider.py:426\u001b[0m, in \u001b[0;36mConfigValueStore.get_config_variable\u001b[0;34m(self, logical_name)\u001b[0m\n\u001b[1;32m    424\u001b[0m     \u001b[38;5;28;01mreturn\u001b[39;00m \u001b[38;5;28;01mNone\u001b[39;00m\n\u001b[1;32m    425\u001b[0m provider \u001b[38;5;241m=\u001b[39m \u001b[38;5;28mself\u001b[39m\u001b[38;5;241m.\u001b[39m_mapping[logical_name]\n\u001b[0;32m--> 426\u001b[0m \u001b[38;5;28;01mreturn\u001b[39;00m \u001b[43mprovider\u001b[49m\u001b[38;5;241;43m.\u001b[39;49m\u001b[43mprovide\u001b[49m\u001b[43m(\u001b[49m\u001b[43m)\u001b[49m\n",
      "File \u001b[0;32m/usr/local/Cellar/jupyterlab/3.6.1/libexec/lib/python3.11/site-packages/botocore/configprovider.py:628\u001b[0m, in \u001b[0;36mChainProvider.provide\u001b[0;34m(self)\u001b[0m\n\u001b[1;32m    621\u001b[0m \u001b[38;5;250m\u001b[39m\u001b[38;5;124;03m\"\"\"Provide the value from the first provider to return non-None.\u001b[39;00m\n\u001b[1;32m    622\u001b[0m \n\u001b[1;32m    623\u001b[0m \u001b[38;5;124;03mEach provider in the chain has its provide method called. The first\u001b[39;00m\n\u001b[1;32m    624\u001b[0m \u001b[38;5;124;03mone in the chain to return a non-None value is the returned from the\u001b[39;00m\n\u001b[1;32m    625\u001b[0m \u001b[38;5;124;03mChainProvider. When no non-None value is found, None is returned.\u001b[39;00m\n\u001b[1;32m    626\u001b[0m \u001b[38;5;124;03m\"\"\"\u001b[39;00m\n\u001b[1;32m    627\u001b[0m \u001b[38;5;28;01mfor\u001b[39;00m provider \u001b[38;5;129;01min\u001b[39;00m \u001b[38;5;28mself\u001b[39m\u001b[38;5;241m.\u001b[39m_providers:\n\u001b[0;32m--> 628\u001b[0m     value \u001b[38;5;241m=\u001b[39m \u001b[43mprovider\u001b[49m\u001b[38;5;241;43m.\u001b[39;49m\u001b[43mprovide\u001b[49m\u001b[43m(\u001b[49m\u001b[43m)\u001b[49m\n\u001b[1;32m    629\u001b[0m     \u001b[38;5;28;01mif\u001b[39;00m value \u001b[38;5;129;01mis\u001b[39;00m \u001b[38;5;129;01mnot\u001b[39;00m \u001b[38;5;28;01mNone\u001b[39;00m:\n\u001b[1;32m    630\u001b[0m         \u001b[38;5;28;01mreturn\u001b[39;00m \u001b[38;5;28mself\u001b[39m\u001b[38;5;241m.\u001b[39m_convert_type(value)\n",
      "File \u001b[0;32m/usr/local/Cellar/jupyterlab/3.6.1/libexec/lib/python3.11/site-packages/botocore/configprovider.py:718\u001b[0m, in \u001b[0;36mScopedConfigProvider.provide\u001b[0;34m(self)\u001b[0m\n\u001b[1;32m    716\u001b[0m \u001b[38;5;28;01mdef\u001b[39;00m \u001b[38;5;21mprovide\u001b[39m(\u001b[38;5;28mself\u001b[39m):\n\u001b[1;32m    717\u001b[0m \u001b[38;5;250m    \u001b[39m\u001b[38;5;124;03m\"\"\"Provide a value from a config file property.\"\"\"\u001b[39;00m\n\u001b[0;32m--> 718\u001b[0m     scoped_config \u001b[38;5;241m=\u001b[39m \u001b[38;5;28;43mself\u001b[39;49m\u001b[38;5;241;43m.\u001b[39;49m\u001b[43m_session\u001b[49m\u001b[38;5;241;43m.\u001b[39;49m\u001b[43mget_scoped_config\u001b[49m\u001b[43m(\u001b[49m\u001b[43m)\u001b[49m\n\u001b[1;32m    719\u001b[0m     \u001b[38;5;28;01mif\u001b[39;00m \u001b[38;5;28misinstance\u001b[39m(\u001b[38;5;28mself\u001b[39m\u001b[38;5;241m.\u001b[39m_config_var_name, \u001b[38;5;28mtuple\u001b[39m):\n\u001b[1;32m    720\u001b[0m         section_config \u001b[38;5;241m=\u001b[39m scoped_config\u001b[38;5;241m.\u001b[39mget(\u001b[38;5;28mself\u001b[39m\u001b[38;5;241m.\u001b[39m_config_var_name[\u001b[38;5;241m0\u001b[39m])\n",
      "File \u001b[0;32m/usr/local/Cellar/jupyterlab/3.6.1/libexec/lib/python3.11/site-packages/botocore/session.py:404\u001b[0m, in \u001b[0;36mget_scoped_config\u001b[0;34m(self)\u001b[0m\n\u001b[1;32m    383\u001b[0m \u001b[38;5;28;01mdef\u001b[39;00m \u001b[38;5;21mget_scoped_config\u001b[39m(\u001b[38;5;28mself\u001b[39m):\n\u001b[1;32m    384\u001b[0m \u001b[38;5;250m    \u001b[39m\u001b[38;5;124;03m\"\"\"\u001b[39;00m\n\u001b[1;32m    385\u001b[0m \u001b[38;5;124;03m    Returns the config values from the config file scoped to the current\u001b[39;00m\n\u001b[1;32m    386\u001b[0m \u001b[38;5;124;03m    profile.\u001b[39;00m\n\u001b[1;32m    387\u001b[0m \n\u001b[1;32m    388\u001b[0m \u001b[38;5;124;03m    The configuration data is loaded **only** from the config file.\u001b[39;00m\n\u001b[1;32m    389\u001b[0m \u001b[38;5;124;03m    It does not resolve variables based on different locations\u001b[39;00m\n\u001b[1;32m    390\u001b[0m \u001b[38;5;124;03m    (e.g. first from the session instance, then from environment\u001b[39;00m\n\u001b[1;32m    391\u001b[0m \u001b[38;5;124;03m    variables, then from the config file).  If you want this lookup\u001b[39;00m\n\u001b[1;32m    392\u001b[0m \u001b[38;5;124;03m    behavior, use the ``get_config_variable`` method instead.\u001b[39;00m\n\u001b[1;32m    393\u001b[0m \n\u001b[1;32m    394\u001b[0m \u001b[38;5;124;03m    Note that this configuration is specific to a single profile (the\u001b[39;00m\n\u001b[1;32m    395\u001b[0m \u001b[38;5;124;03m    ``profile`` session variable).\u001b[39;00m\n\u001b[1;32m    396\u001b[0m \n\u001b[1;32m    397\u001b[0m \u001b[38;5;124;03m    If the ``profile`` session variable is set and the profile does\u001b[39;00m\n\u001b[1;32m    398\u001b[0m \u001b[38;5;124;03m    not exist in the config file, a ``ProfileNotFound`` exception\u001b[39;00m\n\u001b[1;32m    399\u001b[0m \u001b[38;5;124;03m    will be raised.\u001b[39;00m\n\u001b[1;32m    400\u001b[0m \n\u001b[1;32m    401\u001b[0m \u001b[38;5;124;03m    :raises: ConfigNotFound, ConfigParseError, ProfileNotFound\u001b[39;00m\n\u001b[1;32m    402\u001b[0m \u001b[38;5;124;03m    :rtype: dict\u001b[39;00m\n\u001b[1;32m    403\u001b[0m \n\u001b[0;32m--> 404\u001b[0m \u001b[38;5;124;03m    \"\"\"\u001b[39;00m\n\u001b[1;32m    405\u001b[0m     profile_name \u001b[38;5;241m=\u001b[39m \u001b[38;5;28mself\u001b[39m\u001b[38;5;241m.\u001b[39mget_config_variable(\u001b[38;5;124m'\u001b[39m\u001b[38;5;124mprofile\u001b[39m\u001b[38;5;124m'\u001b[39m)\n\u001b[1;32m    406\u001b[0m     profile_map \u001b[38;5;241m=\u001b[39m \u001b[38;5;28mself\u001b[39m\u001b[38;5;241m.\u001b[39m_build_profile_map()\n",
      "\u001b[0;31mProfileNotFound\u001b[0m: The config profile (kafka-aws-stock-market-analysis) could not be found"
     ]
    }
   ],
   "source": [
    "\n",
    "from boto3 import Session\n",
    "session = Session(profile_name='kafka-aws-stock-market-analysis')\n",
    "s3 = session.client('s3')\n",
    "\n",
    "from io import BytesIO\n",
    "for count, i in enumerate(consumer):\n",
    "    # convert json.dumps formed string to bytes using bytesIO\n",
    "    file_object = BytesIO(json.dumps(i.value).encode('utf-8'))\n",
    "    # upload file object to s3 bucket \n",
    "    s3.upload_fileobj(file_object, bucket_name, f\"kafka-aws-stock-market-analysis{count}.json\")"
   ]
  },
  {
   "cell_type": "code",
   "execution_count": null,
   "id": "28bdfff0",
   "metadata": {},
   "outputs": [],
   "source": [
    "#for c in consumer:\n",
    "    #print(c.value)\n",
    "    "
   ]
  },
  {
   "cell_type": "code",
   "execution_count": 7,
   "id": "7573811c",
   "metadata": {},
   "outputs": [],
   "source": [
    "s3 = S3FileSystem()"
   ]
  },
  {
   "cell_type": "code",
   "execution_count": 8,
   "id": "726c485b",
   "metadata": {},
   "outputs": [
    {
     "ename": "KeyboardInterrupt",
     "evalue": "",
     "output_type": "error",
     "traceback": [
      "\u001b[0;31m---------------------------------------------------------------------------\u001b[0m",
      "\u001b[0;31mKeyboardInterrupt\u001b[0m                         Traceback (most recent call last)",
      "\u001b[1;32m/Users/syedhashir/Kafka/Kafka_consumer.ipynb Cell 8\u001b[0m line \u001b[0;36m2\n\u001b[1;32m      <a href='vscode-notebook-cell:/Users/syedhashir/Kafka/Kafka_consumer.ipynb#W6sZmlsZQ%3D%3D?line=0'>1</a>\u001b[0m \u001b[39mfor\u001b[39;00m count, i \u001b[39min\u001b[39;00m \u001b[39menumerate\u001b[39m(consumer):\n\u001b[0;32m----> <a href='vscode-notebook-cell:/Users/syedhashir/Kafka/Kafka_consumer.ipynb#W6sZmlsZQ%3D%3D?line=1'>2</a>\u001b[0m     \u001b[39mwith\u001b[39;00m s3\u001b[39m.\u001b[39mopen(\u001b[39m\"\u001b[39m\u001b[39ms3://kafka-aws-stock-market-analysis/stock_market_\u001b[39m\u001b[39m{}\u001b[39;00m\u001b[39m.json\u001b[39m\u001b[39m\"\u001b[39m\u001b[39m.\u001b[39mformat(count), \u001b[39m'\u001b[39m\u001b[39mw\u001b[39m\u001b[39m'\u001b[39m) \u001b[39mas\u001b[39;00m file:\n\u001b[1;32m      <a href='vscode-notebook-cell:/Users/syedhashir/Kafka/Kafka_consumer.ipynb#W6sZmlsZQ%3D%3D?line=2'>3</a>\u001b[0m         json\u001b[39m.\u001b[39mdump(i\u001b[39m.\u001b[39mvalue, file)    \n",
      "File \u001b[0;32m/Library/Frameworks/Python.framework/Versions/3.10/lib/python3.10/site-packages/fsspec/spec.py:1944\u001b[0m, in \u001b[0;36mAbstractBufferedFile.close\u001b[0;34m(self)\u001b[0m\n\u001b[1;32m   1942\u001b[0m \u001b[39melse\u001b[39;00m:\n\u001b[1;32m   1943\u001b[0m     \u001b[39mif\u001b[39;00m \u001b[39mnot\u001b[39;00m \u001b[39mself\u001b[39m\u001b[39m.\u001b[39mforced:\n\u001b[0;32m-> 1944\u001b[0m         \u001b[39mself\u001b[39;49m\u001b[39m.\u001b[39;49mflush(force\u001b[39m=\u001b[39;49m\u001b[39mTrue\u001b[39;49;00m)\n\u001b[1;32m   1946\u001b[0m     \u001b[39mif\u001b[39;00m \u001b[39mself\u001b[39m\u001b[39m.\u001b[39mfs \u001b[39mis\u001b[39;00m \u001b[39mnot\u001b[39;00m \u001b[39mNone\u001b[39;00m:\n\u001b[1;32m   1947\u001b[0m         \u001b[39mself\u001b[39m\u001b[39m.\u001b[39mfs\u001b[39m.\u001b[39minvalidate_cache(\u001b[39mself\u001b[39m\u001b[39m.\u001b[39mpath)\n",
      "File \u001b[0;32m/Library/Frameworks/Python.framework/Versions/3.10/lib/python3.10/site-packages/fsspec/spec.py:1815\u001b[0m, in \u001b[0;36mAbstractBufferedFile.flush\u001b[0;34m(self, force)\u001b[0m\n\u001b[1;32m   1812\u001b[0m         \u001b[39mself\u001b[39m\u001b[39m.\u001b[39mclosed \u001b[39m=\u001b[39m \u001b[39mTrue\u001b[39;00m\n\u001b[1;32m   1813\u001b[0m         \u001b[39mraise\u001b[39;00m\n\u001b[0;32m-> 1815\u001b[0m \u001b[39mif\u001b[39;00m \u001b[39mself\u001b[39;49m\u001b[39m.\u001b[39;49m_upload_chunk(final\u001b[39m=\u001b[39;49mforce) \u001b[39mis\u001b[39;00m \u001b[39mnot\u001b[39;00m \u001b[39mFalse\u001b[39;00m:\n\u001b[1;32m   1816\u001b[0m     \u001b[39mself\u001b[39m\u001b[39m.\u001b[39moffset \u001b[39m+\u001b[39m\u001b[39m=\u001b[39m \u001b[39mself\u001b[39m\u001b[39m.\u001b[39mbuffer\u001b[39m.\u001b[39mseek(\u001b[39m0\u001b[39m, \u001b[39m2\u001b[39m)\n\u001b[1;32m   1817\u001b[0m     \u001b[39mself\u001b[39m\u001b[39m.\u001b[39mbuffer \u001b[39m=\u001b[39m io\u001b[39m.\u001b[39mBytesIO()\n",
      "File \u001b[0;32m/Library/Frameworks/Python.framework/Versions/3.10/lib/python3.10/site-packages/s3fs/core.py:2288\u001b[0m, in \u001b[0;36mS3File._upload_chunk\u001b[0;34m(self, final)\u001b[0m\n\u001b[1;32m   2285\u001b[0m     \u001b[39mself\u001b[39m\u001b[39m.\u001b[39mparts\u001b[39m.\u001b[39mappend(part_header)\n\u001b[1;32m   2287\u001b[0m \u001b[39mif\u001b[39;00m \u001b[39mself\u001b[39m\u001b[39m.\u001b[39mautocommit \u001b[39mand\u001b[39;00m final:\n\u001b[0;32m-> 2288\u001b[0m     \u001b[39mself\u001b[39;49m\u001b[39m.\u001b[39;49mcommit()\n\u001b[1;32m   2289\u001b[0m \u001b[39mreturn\u001b[39;00m \u001b[39mnot\u001b[39;00m final\n",
      "File \u001b[0;32m/Library/Frameworks/Python.framework/Versions/3.10/lib/python3.10/site-packages/s3fs/core.py:2306\u001b[0m, in \u001b[0;36mS3File.commit\u001b[0;34m(self)\u001b[0m\n\u001b[1;32m   2304\u001b[0m     \u001b[39mif\u001b[39;00m \u001b[39mself\u001b[39m\u001b[39m.\u001b[39macl:\n\u001b[1;32m   2305\u001b[0m         kw[\u001b[39m\"\u001b[39m\u001b[39mACL\u001b[39m\u001b[39m\"\u001b[39m] \u001b[39m=\u001b[39m \u001b[39mself\u001b[39m\u001b[39m.\u001b[39macl\n\u001b[0;32m-> 2306\u001b[0m     write_result \u001b[39m=\u001b[39m \u001b[39mself\u001b[39;49m\u001b[39m.\u001b[39;49m_call_s3(\u001b[39m\"\u001b[39;49m\u001b[39mput_object\u001b[39;49m\u001b[39m\"\u001b[39;49m, \u001b[39m*\u001b[39;49m\u001b[39m*\u001b[39;49mkw)\n\u001b[1;32m   2307\u001b[0m \u001b[39melse\u001b[39;00m:\n\u001b[1;32m   2308\u001b[0m     \u001b[39mraise\u001b[39;00m \u001b[39mRuntimeError\u001b[39;00m\n",
      "File \u001b[0;32m/Library/Frameworks/Python.framework/Versions/3.10/lib/python3.10/site-packages/s3fs/core.py:2151\u001b[0m, in \u001b[0;36mS3File._call_s3\u001b[0;34m(self, method, *kwarglist, **kwargs)\u001b[0m\n\u001b[1;32m   2150\u001b[0m \u001b[39mdef\u001b[39;00m \u001b[39m_call_s3\u001b[39m(\u001b[39mself\u001b[39m, method, \u001b[39m*\u001b[39mkwarglist, \u001b[39m*\u001b[39m\u001b[39m*\u001b[39mkwargs):\n\u001b[0;32m-> 2151\u001b[0m     \u001b[39mreturn\u001b[39;00m \u001b[39mself\u001b[39;49m\u001b[39m.\u001b[39;49mfs\u001b[39m.\u001b[39;49mcall_s3(method, \u001b[39mself\u001b[39;49m\u001b[39m.\u001b[39;49ms3_additional_kwargs, \u001b[39m*\u001b[39;49mkwarglist, \u001b[39m*\u001b[39;49m\u001b[39m*\u001b[39;49mkwargs)\n",
      "File \u001b[0;32m/Library/Frameworks/Python.framework/Versions/3.10/lib/python3.10/site-packages/fsspec/asyn.py:118\u001b[0m, in \u001b[0;36msync_wrapper.<locals>.wrapper\u001b[0;34m(*args, **kwargs)\u001b[0m\n\u001b[1;32m    115\u001b[0m \u001b[39m@functools\u001b[39m\u001b[39m.\u001b[39mwraps(func)\n\u001b[1;32m    116\u001b[0m \u001b[39mdef\u001b[39;00m \u001b[39mwrapper\u001b[39m(\u001b[39m*\u001b[39margs, \u001b[39m*\u001b[39m\u001b[39m*\u001b[39mkwargs):\n\u001b[1;32m    117\u001b[0m     \u001b[39mself\u001b[39m \u001b[39m=\u001b[39m obj \u001b[39mor\u001b[39;00m args[\u001b[39m0\u001b[39m]\n\u001b[0;32m--> 118\u001b[0m     \u001b[39mreturn\u001b[39;00m sync(\u001b[39mself\u001b[39;49m\u001b[39m.\u001b[39;49mloop, func, \u001b[39m*\u001b[39;49margs, \u001b[39m*\u001b[39;49m\u001b[39m*\u001b[39;49mkwargs)\n",
      "File \u001b[0;32m/Library/Frameworks/Python.framework/Versions/3.10/lib/python3.10/site-packages/fsspec/asyn.py:91\u001b[0m, in \u001b[0;36msync\u001b[0;34m(loop, func, timeout, *args, **kwargs)\u001b[0m\n\u001b[1;32m     88\u001b[0m asyncio\u001b[39m.\u001b[39mrun_coroutine_threadsafe(_runner(event, coro, result, timeout), loop)\n\u001b[1;32m     89\u001b[0m \u001b[39mwhile\u001b[39;00m \u001b[39mTrue\u001b[39;00m:\n\u001b[1;32m     90\u001b[0m     \u001b[39m# this loops allows thread to get interrupted\u001b[39;00m\n\u001b[0;32m---> 91\u001b[0m     \u001b[39mif\u001b[39;00m event\u001b[39m.\u001b[39;49mwait(\u001b[39m1\u001b[39;49m):\n\u001b[1;32m     92\u001b[0m         \u001b[39mbreak\u001b[39;00m\n\u001b[1;32m     93\u001b[0m     \u001b[39mif\u001b[39;00m timeout \u001b[39mis\u001b[39;00m \u001b[39mnot\u001b[39;00m \u001b[39mNone\u001b[39;00m:\n",
      "File \u001b[0;32m/Library/Frameworks/Python.framework/Versions/3.10/lib/python3.10/threading.py:607\u001b[0m, in \u001b[0;36mEvent.wait\u001b[0;34m(self, timeout)\u001b[0m\n\u001b[1;32m    605\u001b[0m signaled \u001b[39m=\u001b[39m \u001b[39mself\u001b[39m\u001b[39m.\u001b[39m_flag\n\u001b[1;32m    606\u001b[0m \u001b[39mif\u001b[39;00m \u001b[39mnot\u001b[39;00m signaled:\n\u001b[0;32m--> 607\u001b[0m     signaled \u001b[39m=\u001b[39m \u001b[39mself\u001b[39;49m\u001b[39m.\u001b[39;49m_cond\u001b[39m.\u001b[39;49mwait(timeout)\n\u001b[1;32m    608\u001b[0m \u001b[39mreturn\u001b[39;00m signaled\n",
      "File \u001b[0;32m/Library/Frameworks/Python.framework/Versions/3.10/lib/python3.10/threading.py:324\u001b[0m, in \u001b[0;36mCondition.wait\u001b[0;34m(self, timeout)\u001b[0m\n\u001b[1;32m    322\u001b[0m \u001b[39melse\u001b[39;00m:\n\u001b[1;32m    323\u001b[0m     \u001b[39mif\u001b[39;00m timeout \u001b[39m>\u001b[39m \u001b[39m0\u001b[39m:\n\u001b[0;32m--> 324\u001b[0m         gotit \u001b[39m=\u001b[39m waiter\u001b[39m.\u001b[39;49macquire(\u001b[39mTrue\u001b[39;49;00m, timeout)\n\u001b[1;32m    325\u001b[0m     \u001b[39melse\u001b[39;00m:\n\u001b[1;32m    326\u001b[0m         gotit \u001b[39m=\u001b[39m waiter\u001b[39m.\u001b[39macquire(\u001b[39mFalse\u001b[39;00m)\n",
      "\u001b[0;31mKeyboardInterrupt\u001b[0m: "
     ]
    }
   ],
   "source": [
    "for count, i in enumerate(consumer):\n",
    "    with s3.open(\"s3://kafka-aws-stock-market-analysis/stock_market_{}.json\".format(count), 'w') as file:\n",
    "        json.dump(i.value, file)    "
   ]
  }
 ],
 "metadata": {
  "kernelspec": {
   "display_name": "Python 3 (ipykernel)",
   "language": "python",
   "name": "python3"
  },
  "language_info": {
   "codemirror_mode": {
    "name": "ipython",
    "version": 3
   },
   "file_extension": ".py",
   "mimetype": "text/x-python",
   "name": "python",
   "nbconvert_exporter": "python",
   "pygments_lexer": "ipython3",
   "version": "3.10.9"
  }
 },
 "nbformat": 4,
 "nbformat_minor": 5
}
